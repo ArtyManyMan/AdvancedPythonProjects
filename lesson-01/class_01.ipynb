{
 "cells": [
  {
   "cell_type": "code",
   "execution_count": 1,
   "id": "6c77cfc6-726b-4e97-8358-0f00e3edafeb",
   "metadata": {},
   "outputs": [],
   "source": [
    "lst = [\"123\", \"456\"]"
   ]
  },
  {
   "cell_type": "code",
   "execution_count": 2,
   "id": "576cf35a-169d-4152-9f43-1012f7da4201",
   "metadata": {},
   "outputs": [],
   "source": [
    "(a, *b), c = lst"
   ]
  },
  {
   "cell_type": "code",
   "execution_count": 3,
   "id": "467acae3-d0a1-43a7-8ff4-81498d8a0ddd",
   "metadata": {},
   "outputs": [
    {
     "data": {
      "text/plain": [
       "('1', ['2', '3'], '456')"
      ]
     },
     "execution_count": 3,
     "metadata": {},
     "output_type": "execute_result"
    }
   ],
   "source": [
    "a, b, c"
   ]
  },
  {
   "cell_type": "code",
   "execution_count": 8,
   "id": "12d6bb6a-cf9e-4721-bc2f-f8687ce60a08",
   "metadata": {},
   "outputs": [
    {
     "name": "stdout",
     "output_type": "stream",
     "text": [
      "i=0, k='a', v='aa'\n",
      "i=1, k='b', v='bb'\n"
     ]
    }
   ],
   "source": [
    "d = {\"a\": \"aa\", \"b\": \"bb\"}\n",
    "\n",
    "for i, (k, v) in enumerate(d.items()):\n",
    "    print(f\"{i=}, {k=}, {v=}\")"
   ]
  },
  {
   "cell_type": "code",
   "execution_count": null,
   "id": "1dea4714-831b-467e-834b-ffcabca1cf42",
   "metadata": {},
   "outputs": [],
   "source": []
  },
  {
   "cell_type": "code",
   "execution_count": 9,
   "id": "53d92925-23dc-44f6-935b-9e3390066980",
   "metadata": {},
   "outputs": [
    {
     "data": {
      "text/plain": [
       "{'a': 'aa', 'b': 'bb'}"
      ]
     },
     "execution_count": 9,
     "metadata": {},
     "output_type": "execute_result"
    }
   ],
   "source": [
    "d"
   ]
  },
  {
   "cell_type": "code",
   "execution_count": 10,
   "id": "6d612391-c4a5-4559-9970-2e8c39ad692d",
   "metadata": {},
   "outputs": [
    {
     "data": {
      "text/plain": [
       "4383675456"
      ]
     },
     "execution_count": 10,
     "metadata": {},
     "output_type": "execute_result"
    }
   ],
   "source": [
    "id(d)"
   ]
  },
  {
   "cell_type": "code",
   "execution_count": 11,
   "id": "91a2ad16-fa0f-4062-a99f-650b363b7d5b",
   "metadata": {},
   "outputs": [],
   "source": [
    "d1 = d"
   ]
  },
  {
   "cell_type": "code",
   "execution_count": 12,
   "id": "470798b5-7435-4705-8324-327819ca3689",
   "metadata": {},
   "outputs": [
    {
     "data": {
      "text/plain": [
       "True"
      ]
     },
     "execution_count": 12,
     "metadata": {},
     "output_type": "execute_result"
    }
   ],
   "source": [
    "id(d1) == id(d)"
   ]
  },
  {
   "cell_type": "code",
   "execution_count": 13,
   "id": "4a964227-8f89-477c-aeeb-b293f3597248",
   "metadata": {},
   "outputs": [
    {
     "data": {
      "text/plain": [
       "True"
      ]
     },
     "execution_count": 13,
     "metadata": {},
     "output_type": "execute_result"
    }
   ],
   "source": [
    "d1 is d"
   ]
  },
  {
   "cell_type": "code",
   "execution_count": 14,
   "id": "48e9fd62-9705-4315-83dd-44f7f5bd7395",
   "metadata": {},
   "outputs": [],
   "source": [
    "d1[\"c\"] = \"cc\""
   ]
  },
  {
   "cell_type": "code",
   "execution_count": 15,
   "id": "66c86979-6c8e-4aab-9bcb-6c4e7b7c0ff7",
   "metadata": {},
   "outputs": [
    {
     "data": {
      "text/plain": [
       "({'a': 'aa', 'b': 'bb', 'c': 'cc'}, {'a': 'aa', 'b': 'bb', 'c': 'cc'})"
      ]
     },
     "execution_count": 15,
     "metadata": {},
     "output_type": "execute_result"
    }
   ],
   "source": [
    "d1, d"
   ]
  },
  {
   "cell_type": "code",
   "execution_count": 16,
   "id": "0307b926-bb06-40c4-ba85-fd89e1aeb747",
   "metadata": {},
   "outputs": [],
   "source": [
    "d = {}"
   ]
  },
  {
   "cell_type": "code",
   "execution_count": 17,
   "id": "8cd7864d-e517-4cb7-9057-e1128ce12ee6",
   "metadata": {},
   "outputs": [
    {
     "data": {
      "text/plain": [
       "False"
      ]
     },
     "execution_count": 17,
     "metadata": {},
     "output_type": "execute_result"
    }
   ],
   "source": [
    "d is d1"
   ]
  },
  {
   "cell_type": "code",
   "execution_count": 18,
   "id": "351e9110-deb7-43db-bd1d-0cb54fe0572a",
   "metadata": {},
   "outputs": [
    {
     "data": {
      "text/plain": [
       "({'a': 'aa', 'b': 'bb', 'c': 'cc'}, {})"
      ]
     },
     "execution_count": 18,
     "metadata": {},
     "output_type": "execute_result"
    }
   ],
   "source": [
    "d1, d"
   ]
  },
  {
   "cell_type": "code",
   "execution_count": 19,
   "id": "d7c99c7a-84d6-4f8b-a183-94478120da9d",
   "metadata": {},
   "outputs": [
    {
     "data": {
      "text/plain": [
       "True"
      ]
     },
     "execution_count": 19,
     "metadata": {},
     "output_type": "execute_result"
    }
   ],
   "source": [
    "i1 = 256\n",
    "i2 = 256\n",
    "i1 is i2"
   ]
  },
  {
   "cell_type": "code",
   "execution_count": 20,
   "id": "9a97d283-1340-44ec-b716-9bc62494ff87",
   "metadata": {},
   "outputs": [
    {
     "data": {
      "text/plain": [
       "False"
      ]
     },
     "execution_count": 20,
     "metadata": {},
     "output_type": "execute_result"
    }
   ],
   "source": [
    "i1 = 257\n",
    "i2 = 257\n",
    "i1 is i2"
   ]
  },
  {
   "cell_type": "code",
   "execution_count": 21,
   "id": "ef6aacc9-72a3-458f-b95b-cd32f3bd28d3",
   "metadata": {},
   "outputs": [],
   "source": [
    "s1 = \"qwerty\""
   ]
  },
  {
   "cell_type": "code",
   "execution_count": 22,
   "id": "5bf5f927-7c00-4380-a12c-c0a57b7b9a29",
   "metadata": {},
   "outputs": [],
   "source": [
    "s2 = \"qwerty\""
   ]
  },
  {
   "cell_type": "code",
   "execution_count": 23,
   "id": "2082d09b-e7dc-4adf-a7ec-86fd46823ac6",
   "metadata": {},
   "outputs": [
    {
     "data": {
      "text/plain": [
       "True"
      ]
     },
     "execution_count": 23,
     "metadata": {},
     "output_type": "execute_result"
    }
   ],
   "source": [
    "s1 is s2"
   ]
  },
  {
   "cell_type": "code",
   "execution_count": 24,
   "id": "e5b39575-697f-4680-95db-747fedef2d67",
   "metadata": {},
   "outputs": [],
   "source": [
    "s3 = \"qwerty?\""
   ]
  },
  {
   "cell_type": "code",
   "execution_count": 25,
   "id": "72a4c487-f650-4ad9-95d5-5be988828476",
   "metadata": {},
   "outputs": [],
   "source": [
    "s4 = \"qwerty?\""
   ]
  },
  {
   "cell_type": "code",
   "execution_count": 26,
   "id": "dfabf3f4-e323-4f79-a675-372d3f5ce87d",
   "metadata": {},
   "outputs": [
    {
     "data": {
      "text/plain": [
       "False"
      ]
     },
     "execution_count": 26,
     "metadata": {},
     "output_type": "execute_result"
    }
   ],
   "source": [
    "s3 is s4"
   ]
  },
  {
   "cell_type": "code",
   "execution_count": null,
   "id": "de26938a-0473-4df8-bff3-d0f24e56ab6e",
   "metadata": {},
   "outputs": [],
   "source": []
  },
  {
   "cell_type": "code",
   "execution_count": null,
   "id": "7e9651f3-452a-430e-bc9b-d678a706bc73",
   "metadata": {},
   "outputs": [],
   "source": []
  },
  {
   "cell_type": "code",
   "execution_count": 28,
   "id": "6d316521-5e6f-4fb5-8429-f72919f61765",
   "metadata": {},
   "outputs": [],
   "source": [
    "lst = [1, 2, 3]\n",
    "itr = iter(lst)  # lst.__iter__()"
   ]
  },
  {
   "cell_type": "code",
   "execution_count": 29,
   "id": "0e7e5ae6-c2e8-4770-944a-3fde7e9923ca",
   "metadata": {},
   "outputs": [
    {
     "data": {
      "text/plain": [
       "<list_iterator at 0x105388f70>"
      ]
     },
     "execution_count": 29,
     "metadata": {},
     "output_type": "execute_result"
    }
   ],
   "source": [
    "itr"
   ]
  },
  {
   "cell_type": "code",
   "execution_count": 30,
   "id": "15c84d9d-2a90-49f1-8fb9-a56d54183f77",
   "metadata": {},
   "outputs": [
    {
     "data": {
      "text/plain": [
       "<list_iterator at 0x105788f10>"
      ]
     },
     "execution_count": 30,
     "metadata": {},
     "output_type": "execute_result"
    }
   ],
   "source": [
    "lst.__iter__()"
   ]
  },
  {
   "cell_type": "code",
   "execution_count": 31,
   "id": "6339ae3d-91a7-4547-a7d1-ebb55dc505a1",
   "metadata": {},
   "outputs": [
    {
     "data": {
      "text/plain": [
       "1"
      ]
     },
     "execution_count": 31,
     "metadata": {},
     "output_type": "execute_result"
    }
   ],
   "source": [
    "itr.__next__()"
   ]
  },
  {
   "cell_type": "code",
   "execution_count": 32,
   "id": "8c4bfe89-46cc-46a5-8f3d-72a2006fc03c",
   "metadata": {},
   "outputs": [
    {
     "data": {
      "text/plain": [
       "2"
      ]
     },
     "execution_count": 32,
     "metadata": {},
     "output_type": "execute_result"
    }
   ],
   "source": [
    "next(itr)"
   ]
  },
  {
   "cell_type": "code",
   "execution_count": 33,
   "id": "43794ce3-6853-4f62-b943-1401d1fcccdc",
   "metadata": {},
   "outputs": [
    {
     "data": {
      "text/plain": [
       "3"
      ]
     },
     "execution_count": 33,
     "metadata": {},
     "output_type": "execute_result"
    }
   ],
   "source": [
    "next(itr)"
   ]
  },
  {
   "cell_type": "code",
   "execution_count": 34,
   "id": "a2c9f114-861b-4d0a-afcd-f511c6e6fb08",
   "metadata": {},
   "outputs": [
    {
     "ename": "StopIteration",
     "evalue": "",
     "output_type": "error",
     "traceback": [
      "\u001b[0;31m---------------------------------------------------------------------------\u001b[0m",
      "\u001b[0;31mStopIteration\u001b[0m                             Traceback (most recent call last)",
      "Cell \u001b[0;32mIn[34], line 1\u001b[0m\n\u001b[0;32m----> 1\u001b[0m \u001b[38;5;28;43mnext\u001b[39;49m\u001b[43m(\u001b[49m\u001b[43mitr\u001b[49m\u001b[43m)\u001b[49m\n",
      "\u001b[0;31mStopIteration\u001b[0m: "
     ]
    }
   ],
   "source": [
    "next(itr)"
   ]
  },
  {
   "cell_type": "code",
   "execution_count": null,
   "id": "3f6e049e-fff7-4152-80d8-85b79932b5d3",
   "metadata": {},
   "outputs": [],
   "source": []
  },
  {
   "cell_type": "code",
   "execution_count": 37,
   "id": "f9863242-1558-48ee-9fb5-69714e6f163b",
   "metadata": {},
   "outputs": [],
   "source": [
    "class SpecialIterator:\n",
    "    def __init__(self, limit):\n",
    "        self.limit = limit\n",
    "        self.counter = 0\n",
    "\n",
    "    def __iter__(self):\n",
    "        print(\"iter\")\n",
    "        return self\n",
    "        \n",
    "    def __next__(self):\n",
    "        print(\"next\")\n",
    "        if self.counter < self.limit:\n",
    "            self.counter += 1\n",
    "            return self.counter\n",
    "        else:\n",
    "            raise StopIteration"
   ]
  },
  {
   "cell_type": "code",
   "execution_count": 38,
   "id": "48183dcb-37a0-46cc-ad75-ef2a323bb2c2",
   "metadata": {},
   "outputs": [
    {
     "name": "stdout",
     "output_type": "stream",
     "text": [
      "start\n",
      "iter\n",
      "next\n",
      "print elem 1\n",
      "next\n",
      "print elem 2\n",
      "next\n",
      "print elem 3\n",
      "next\n"
     ]
    }
   ],
   "source": [
    "it = SpecialIterator(3)\n",
    "\n",
    "print(\"start\")\n",
    "\n",
    "for elem in it:\n",
    "    print(\"print elem\", elem)"
   ]
  },
  {
   "cell_type": "code",
   "execution_count": 39,
   "id": "d1fe6a6f-4100-4166-88e0-2f038c3be0da",
   "metadata": {},
   "outputs": [
    {
     "name": "stdout",
     "output_type": "stream",
     "text": [
      "iter\n",
      "next\n",
      "1\n",
      "next\n",
      "2\n",
      "next\n",
      "3\n",
      "next\n"
     ]
    },
    {
     "ename": "StopIteration",
     "evalue": "",
     "output_type": "error",
     "traceback": [
      "\u001b[0;31m---------------------------------------------------------------------------\u001b[0m",
      "\u001b[0;31mStopIteration\u001b[0m                             Traceback (most recent call last)",
      "Cell \u001b[0;32mIn[39], line 6\u001b[0m\n\u001b[1;32m      4\u001b[0m \u001b[38;5;28mprint\u001b[39m(\u001b[38;5;28mnext\u001b[39m(it))\n\u001b[1;32m      5\u001b[0m \u001b[38;5;28mprint\u001b[39m(\u001b[38;5;28mnext\u001b[39m(it))\n\u001b[0;32m----> 6\u001b[0m \u001b[38;5;28mprint\u001b[39m(\u001b[38;5;28;43mnext\u001b[39;49m\u001b[43m(\u001b[49m\u001b[43mit\u001b[49m\u001b[43m)\u001b[49m)\n",
      "Cell \u001b[0;32mIn[37], line 16\u001b[0m, in \u001b[0;36mSpecialIterator.__next__\u001b[0;34m(self)\u001b[0m\n\u001b[1;32m     14\u001b[0m     \u001b[38;5;28;01mreturn\u001b[39;00m \u001b[38;5;28mself\u001b[39m\u001b[38;5;241m.\u001b[39mcounter\n\u001b[1;32m     15\u001b[0m \u001b[38;5;28;01melse\u001b[39;00m:\n\u001b[0;32m---> 16\u001b[0m     \u001b[38;5;28;01mraise\u001b[39;00m \u001b[38;5;167;01mStopIteration\u001b[39;00m\n",
      "\u001b[0;31mStopIteration\u001b[0m: "
     ]
    }
   ],
   "source": [
    "it1 = SpecialIterator(3)\n",
    "it = iter(it1)\n",
    "print(next(it))\n",
    "print(next(it))\n",
    "print(next(it))\n",
    "print(next(it))"
   ]
  },
  {
   "cell_type": "code",
   "execution_count": null,
   "id": "f2725946-23ce-4a4f-a49f-4440d8d3dcc6",
   "metadata": {},
   "outputs": [],
   "source": []
  },
  {
   "cell_type": "code",
   "execution_count": 40,
   "id": "b7321f85-3768-4056-b74a-6b3e644a99e4",
   "metadata": {},
   "outputs": [],
   "source": [
    "def gen(count):\n",
    "    print(\"start\")\n",
    "    while count > 0:\n",
    "        print(\"before yi\", count)\n",
    "        yield count\n",
    "        print(\"after yi\", count)\n",
    "        count -= 1\n",
    "    return count"
   ]
  },
  {
   "cell_type": "code",
   "execution_count": 41,
   "id": "23aa4baa-d69f-4e96-9376-e621da6cb0ec",
   "metadata": {},
   "outputs": [],
   "source": [
    "g = gen(3)"
   ]
  },
  {
   "cell_type": "code",
   "execution_count": 48,
   "id": "118aba10-171f-4b9d-8cdb-9f15169a2637",
   "metadata": {},
   "outputs": [
    {
     "name": "stdout",
     "output_type": "stream",
     "text": [
      "start\n",
      "before yi 3\n"
     ]
    },
    {
     "data": {
      "text/plain": [
       "3"
      ]
     },
     "execution_count": 48,
     "metadata": {},
     "output_type": "execute_result"
    }
   ],
   "source": [
    "next(g)"
   ]
  },
  {
   "cell_type": "code",
   "execution_count": 49,
   "id": "b621fd7b-21cb-4205-ad31-0a90f23626e3",
   "metadata": {},
   "outputs": [
    {
     "name": "stdout",
     "output_type": "stream",
     "text": [
      "after yi 3\n",
      "before yi 2\n"
     ]
    },
    {
     "data": {
      "text/plain": [
       "2"
      ]
     },
     "execution_count": 49,
     "metadata": {},
     "output_type": "execute_result"
    }
   ],
   "source": [
    "next(g)"
   ]
  },
  {
   "cell_type": "code",
   "execution_count": 50,
   "id": "217463e2-7568-45b2-bf7b-ea6303d0101d",
   "metadata": {},
   "outputs": [
    {
     "name": "stdout",
     "output_type": "stream",
     "text": [
      "after yi 2\n",
      "before yi 1\n"
     ]
    },
    {
     "data": {
      "text/plain": [
       "1"
      ]
     },
     "execution_count": 50,
     "metadata": {},
     "output_type": "execute_result"
    }
   ],
   "source": [
    "next(g)"
   ]
  },
  {
   "cell_type": "code",
   "execution_count": 51,
   "id": "c61e14f6-4bb1-4a55-aa1b-ba739de107b7",
   "metadata": {},
   "outputs": [
    {
     "name": "stdout",
     "output_type": "stream",
     "text": [
      "after yi 1\n"
     ]
    },
    {
     "ename": "StopIteration",
     "evalue": "0",
     "output_type": "error",
     "traceback": [
      "\u001b[0;31m---------------------------------------------------------------------------\u001b[0m",
      "\u001b[0;31mStopIteration\u001b[0m                             Traceback (most recent call last)",
      "Cell \u001b[0;32mIn[51], line 1\u001b[0m\n\u001b[0;32m----> 1\u001b[0m \u001b[38;5;28;43mnext\u001b[39;49m\u001b[43m(\u001b[49m\u001b[43mg\u001b[49m\u001b[43m)\u001b[49m\n",
      "\u001b[0;31mStopIteration\u001b[0m: 0"
     ]
    }
   ],
   "source": [
    "next(g)"
   ]
  },
  {
   "cell_type": "code",
   "execution_count": null,
   "id": "de2bd50e-f508-414f-9021-c6ec975c3431",
   "metadata": {},
   "outputs": [],
   "source": []
  },
  {
   "cell_type": "code",
   "execution_count": null,
   "id": "a32f699a-cd4e-4822-8542-4aa2b6e999f4",
   "metadata": {},
   "outputs": [],
   "source": []
  },
  {
   "cell_type": "code",
   "execution_count": 47,
   "id": "fd6b26fd-044e-4cb3-b1fb-c7887a0bd149",
   "metadata": {},
   "outputs": [
    {
     "name": "stdout",
     "output_type": "stream",
     "text": [
      "<generator object gen at 0x1054ae570> <function gen at 0x1056d88b0> <__main__.SpecialIterator object at 0x10578be20>\n"
     ]
    }
   ],
   "source": [
    "print(g, gen, it)"
   ]
  },
  {
   "cell_type": "code",
   "execution_count": null,
   "id": "2c986c2b-ea98-4533-8dba-29281c6679fa",
   "metadata": {},
   "outputs": [],
   "source": []
  },
  {
   "cell_type": "code",
   "execution_count": null,
   "id": "033369cb-c77a-4248-b8d1-b147bc8391c5",
   "metadata": {},
   "outputs": [],
   "source": []
  },
  {
   "cell_type": "code",
   "execution_count": 52,
   "id": "1d366561-6071-4949-8a8a-c289feccfab7",
   "metadata": {},
   "outputs": [
    {
     "name": "stdout",
     "output_type": "stream",
     "text": [
      "[(0, 0), (1, 1), (2, 4), (3, 9), (4, 16), (5, 25), (6, 36), (7, 49), (8, 64), (9, 81)]\n"
     ]
    }
   ],
   "source": [
    "n = range(10)\n",
    "\n",
    "result = list(\n",
    "    zip(\n",
    "        n,\n",
    "        map(lambda x: x ** 2, n)\n",
    "    )\n",
    ")\n",
    "print(result)"
   ]
  },
  {
   "cell_type": "code",
   "execution_count": 53,
   "id": "d21792c9-1e7a-4cbd-a4cb-a338cf831e18",
   "metadata": {},
   "outputs": [
    {
     "name": "stdout",
     "output_type": "stream",
     "text": [
      "[(0, 1), (2, 9), (4, 25), (6, 49), (8, 81)]\n"
     ]
    }
   ],
   "source": [
    "n = iter(range(10))\n",
    "\n",
    "result = list(\n",
    "    zip(\n",
    "        n,\n",
    "        map(lambda x: x ** 2, n)\n",
    "    )\n",
    ")\n",
    "print(result)"
   ]
  },
  {
   "cell_type": "code",
   "execution_count": 56,
   "id": "cd558a30-6bb8-4564-89de-b9d08ecd95ec",
   "metadata": {},
   "outputs": [
    {
     "data": {
      "text/plain": [
       "True"
      ]
     },
     "execution_count": 56,
     "metadata": {},
     "output_type": "execute_result"
    }
   ],
   "source": [
    "n = iter(range(10))\n",
    "n1 = iter(n) # __iter__: return self\n",
    "n is n1"
   ]
  },
  {
   "cell_type": "code",
   "execution_count": 57,
   "id": "60416cd3-838c-4e8f-9fae-3dafd71bf598",
   "metadata": {},
   "outputs": [
    {
     "data": {
      "text/plain": [
       "(False, False)"
      ]
     },
     "execution_count": 57,
     "metadata": {},
     "output_type": "execute_result"
    }
   ],
   "source": [
    "n = range(10)\n",
    "n1 = iter(n)\n",
    "n2 = iter(n)\n",
    "n1 is n2, n1 is n"
   ]
  },
  {
   "cell_type": "code",
   "execution_count": 71,
   "id": "e2ba2030-a451-457c-a01c-716cb618099c",
   "metadata": {},
   "outputs": [
    {
     "name": "stdout",
     "output_type": "stream",
     "text": [
      "[1, 2, 3] [1, 2, 3]\n"
     ]
    }
   ],
   "source": [
    "lst = [1, 2, 3]\n",
    "n = iter(lst)\n",
    "n1 = iter(lst)\n",
    "print(list(n), list(n1))"
   ]
  },
  {
   "cell_type": "code",
   "execution_count": null,
   "id": "02698e62-08a9-44d6-a18e-eb8301868f0c",
   "metadata": {},
   "outputs": [],
   "source": []
  },
  {
   "cell_type": "code",
   "execution_count": null,
   "id": "9948f68b-89fa-4edc-a69a-7913c6137b49",
   "metadata": {},
   "outputs": [],
   "source": []
  },
  {
   "cell_type": "code",
   "execution_count": null,
   "id": "5df72d06-3ad8-47bd-8f33-fa0cfc67053f",
   "metadata": {},
   "outputs": [],
   "source": []
  },
  {
   "cell_type": "code",
   "execution_count": 58,
   "id": "d116dc74-a1f8-4cf9-9083-377e47cad60b",
   "metadata": {},
   "outputs": [
    {
     "name": "stdout",
     "output_type": "stream",
     "text": [
      "start 1\n",
      "before yi count=10, step=1\n",
      "10\n"
     ]
    }
   ],
   "source": [
    "def gen(count, step=1):\n",
    "    print(\"start\", step)\n",
    "    \n",
    "    while count > 0:\n",
    "        print(f\"before yi {count=}, {step=}\")\n",
    "        \n",
    "        step_cand = yield count\n",
    "        \n",
    "        print(f\"after yi {count=}, {step=}, {step_cand=}\")\n",
    "\n",
    "        if step_cand is not None:\n",
    "            step = step_cand\n",
    "\n",
    "        count -= step\n",
    "\n",
    "    return count\n",
    "\n",
    "g = gen(10)\n",
    "print(next(g))\n"
   ]
  },
  {
   "cell_type": "code",
   "execution_count": 59,
   "id": "d477c19c-5495-4a98-8746-35e3489d88f7",
   "metadata": {},
   "outputs": [
    {
     "name": "stdout",
     "output_type": "stream",
     "text": [
      "after yi count=10, step=1, step_cand=None\n",
      "before yi count=9, step=1\n",
      "9\n"
     ]
    }
   ],
   "source": [
    "print(next(g))"
   ]
  },
  {
   "cell_type": "code",
   "execution_count": 60,
   "id": "e144425d-2f6e-4c22-990f-b6bb04f271dd",
   "metadata": {},
   "outputs": [
    {
     "name": "stdout",
     "output_type": "stream",
     "text": [
      "after yi count=9, step=1, step_cand=4\n",
      "before yi count=5, step=4\n",
      "5\n"
     ]
    }
   ],
   "source": [
    "print(g.send(4))"
   ]
  },
  {
   "cell_type": "code",
   "execution_count": 61,
   "id": "05ddcfd8-1287-42bb-8b7e-0e5b0ef9bb0e",
   "metadata": {},
   "outputs": [
    {
     "name": "stdout",
     "output_type": "stream",
     "text": [
      "after yi count=5, step=4, step_cand=None\n",
      "before yi count=1, step=4\n",
      "1\n"
     ]
    }
   ],
   "source": [
    "print(next(g)) # -> g.__next__()"
   ]
  },
  {
   "cell_type": "code",
   "execution_count": 62,
   "id": "a00ccaef-b71a-4497-a778-a0a43a215922",
   "metadata": {},
   "outputs": [
    {
     "name": "stdout",
     "output_type": "stream",
     "text": [
      "after yi count=1, step=4, step_cand=None\n"
     ]
    },
    {
     "ename": "StopIteration",
     "evalue": "-3",
     "output_type": "error",
     "traceback": [
      "\u001b[0;31m---------------------------------------------------------------------------\u001b[0m",
      "\u001b[0;31mStopIteration\u001b[0m                             Traceback (most recent call last)",
      "Cell \u001b[0;32mIn[62], line 1\u001b[0m\n\u001b[0;32m----> 1\u001b[0m \u001b[38;5;28mprint\u001b[39m(\u001b[38;5;28;43mnext\u001b[39;49m\u001b[43m(\u001b[49m\u001b[43mg\u001b[49m\u001b[43m)\u001b[49m)\n",
      "\u001b[0;31mStopIteration\u001b[0m: -3"
     ]
    }
   ],
   "source": [
    "print(next(g))"
   ]
  },
  {
   "cell_type": "code",
   "execution_count": 65,
   "id": "3f5924df-66ec-4975-bfc6-cf57bac7644a",
   "metadata": {},
   "outputs": [],
   "source": [
    "def empty_gen():\n",
    "    if False:\n",
    "        yield\n",
    "    return 42"
   ]
  },
  {
   "cell_type": "code",
   "execution_count": 66,
   "id": "a3e62dc2-6d1b-4a89-886a-fc68451a9386",
   "metadata": {},
   "outputs": [
    {
     "name": "stdout",
     "output_type": "stream",
     "text": [
      "<function empty_gen at 0x1056d8af0>\n"
     ]
    }
   ],
   "source": [
    "print(empty_gen)"
   ]
  },
  {
   "cell_type": "code",
   "execution_count": 69,
   "id": "2c2becc9-e3a1-442d-9f47-9a2ca7313185",
   "metadata": {},
   "outputs": [
    {
     "data": {
      "text/plain": [
       "<generator object empty_gen at 0x10583db60>"
      ]
     },
     "execution_count": 69,
     "metadata": {},
     "output_type": "execute_result"
    }
   ],
   "source": [
    "g = empty_gen()\n",
    "g"
   ]
  },
  {
   "cell_type": "code",
   "execution_count": 70,
   "id": "7da2be1d-ef30-4e7a-b8ce-5c8385c44f30",
   "metadata": {},
   "outputs": [
    {
     "ename": "StopIteration",
     "evalue": "42",
     "output_type": "error",
     "traceback": [
      "\u001b[0;31m---------------------------------------------------------------------------\u001b[0m",
      "\u001b[0;31mStopIteration\u001b[0m                             Traceback (most recent call last)",
      "Cell \u001b[0;32mIn[70], line 1\u001b[0m\n\u001b[0;32m----> 1\u001b[0m \u001b[38;5;28;43mnext\u001b[39;49m\u001b[43m(\u001b[49m\u001b[43mg\u001b[49m\u001b[43m)\u001b[49m\n",
      "\u001b[0;31mStopIteration\u001b[0m: 42"
     ]
    }
   ],
   "source": [
    "next(g)"
   ]
  },
  {
   "cell_type": "code",
   "execution_count": null,
   "id": "cb8018dc-5a8a-46c1-8640-40b33109c512",
   "metadata": {},
   "outputs": [],
   "source": []
  }
 ],
 "metadata": {
  "kernelspec": {
   "display_name": "Python 3 (ipykernel)",
   "language": "python",
   "name": "python3"
  },
  "language_info": {
   "codemirror_mode": {
    "name": "ipython",
    "version": 3
   },
   "file_extension": ".py",
   "mimetype": "text/x-python",
   "name": "python",
   "nbconvert_exporter": "python",
   "pygments_lexer": "ipython3",
   "version": "3.10.2"
  }
 },
 "nbformat": 4,
 "nbformat_minor": 5
}
